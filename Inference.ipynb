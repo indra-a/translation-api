{
 "cells": [
  {
   "cell_type": "code",
   "execution_count": 16,
   "metadata": {},
   "outputs": [],
   "source": [
    "from transformers import AutoModelForSeq2SeqLM, NllbTokenizer\n",
    "\n",
    "tokenizer_en2mn = NllbTokenizer.from_pretrained(\"tokenizer_en2mn/\")\n",
    "tokenizer_mn2en = NllbTokenizer.from_pretrained(\"tokenizer_mn2en/\")\n",
    "model = AutoModelForSeq2SeqLM.from_pretrained(\"facebook/nllb-200-distilled-600M\")"
   ]
  },
  {
   "cell_type": "code",
   "execution_count": 17,
   "metadata": {},
   "outputs": [
    {
     "data": {
      "text/plain": [
       "['Холбооны нөөцийн ерөнхийлөгч Джером Пауэлл']"
      ]
     },
     "execution_count": 17,
     "metadata": {},
     "output_type": "execute_result"
    }
   ],
   "source": [
    "article = \"\"\"Federal Reserve Chair Jerome Powell\"\"\"\n",
    "inputs = tokenizer_en2mn(article, return_tensors=\"pt\")\n",
    "translated_tokens = model.generate(**inputs, forced_bos_token_id = tokenizer_en2mn.lang_code_to_id['khk_Cyrl'])\n",
    "tokenizer_en2mn.batch_decode(translated_tokens, skip_special_tokens = True)"
   ]
  },
  {
   "cell_type": "code",
   "execution_count": 18,
   "metadata": {},
   "outputs": [
    {
     "data": {
      "text/plain": [
       "[\"It's all about commercial real estate, housing, everything.\"]"
      ]
     },
     "execution_count": 18,
     "metadata": {},
     "output_type": "execute_result"
    }
   ],
   "source": [
    "article = \"\"\"худалдааны үл хөдлөх хөрөнгө, орон сууц хүртэл бүх зүйлийг хөндөж\"\"\"\n",
    "inputs = tokenizer_mn2en(article, return_tensors=\"pt\")\n",
    "translated_tokens = model.generate(**inputs, forced_bos_token_id = tokenizer_mn2en.lang_code_to_id['eng_Latn'])\n",
    "tokenizer_mn2en.batch_decode(translated_tokens, skip_special_tokens = True)"
   ]
  }
 ],
 "metadata": {
  "kernelspec": {
   "display_name": "Python 3",
   "language": "python",
   "name": "python3"
  },
  "language_info": {
   "codemirror_mode": {
    "name": "ipython",
    "version": 3
   },
   "file_extension": ".py",
   "mimetype": "text/x-python",
   "name": "python",
   "nbconvert_exporter": "python",
   "pygments_lexer": "ipython3",
   "version": "3.10.0"
  }
 },
 "nbformat": 4,
 "nbformat_minor": 2
}
